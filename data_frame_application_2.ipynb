{
 "cells": [
  {
   "cell_type": "code",
   "execution_count": 1,
   "metadata": {},
   "outputs": [
    {
     "name": "stdout",
     "output_type": "stream",
     "text": [
      "                       NOME_ARQUIVO  \\\n",
      "0     metadata\\dissertacao_0001.txt   \n",
      "1     metadata\\dissertacao_0002.txt   \n",
      "2     metadata\\dissertacao_0003.txt   \n",
      "3     metadata\\dissertacao_0004.txt   \n",
      "4     metadata\\dissertacao_0005.txt   \n",
      "...                             ...   \n",
      "6107  metadata\\dissertacao_6159.txt   \n",
      "6108  metadata\\dissertacao_6160.txt   \n",
      "6109  metadata\\dissertacao_6161.txt   \n",
      "6110  metadata\\dissertacao_6162.txt   \n",
      "6111  metadata\\dissertacao_6163.txt   \n",
      "\n",
      "                                               CONTEUDO  \n",
      "0     [VICENTE LOURENÇO GONÇALVES, CARDINALIDADE DE ...  \n",
      "1     [UNIVERSIDADE ESTADUAL DO SUDOESTE DA BAHIA – ...  \n",
      "2     [BEATRIZ ROSSIGNOL VIEIRA CARDOSO, O TRABALHO ...  \n",
      "3     [UNIVERSIDADE FEDERAL DO MARANHÃO, CENTRO DE C...  \n",
      "4     [UNIVERSIDADE FEDERAL DA PARAÍBA, CENTRO DE CI...  \n",
      "...                                                 ...  \n",
      "6107  [Universidade Federal da Bahia - UFBA, Institu...  \n",
      "6108  [UNIVERSIDADE FEDERAL DO ESPÍRITO SANTO, DEPAR...  \n",
      "6109  [Universidade Federal da Bahia - UFBA, Institu...  \n",
      "6110  [UFES - Universidade Federal do Espírito Santo...  \n",
      "6111  [UNIVERSIDADE FEDERAL DO ESPÍRITO SANTO, DEPAR...  \n",
      "\n",
      "[6112 rows x 2 columns]\n"
     ]
    }
   ],
   "source": [
    "import pandas as pd\n",
    "import create_data_frame\n",
    "from create_data_frame import df\n",
    "import define_functions\n",
    "from define_functions import format_text\n",
    "from define_functions import fix_accents_bugs_in_pdf_conversion\n",
    "from define_functions import encontrar_abstract\n",
    "from define_functions import encontrar_resumo\n",
    "from define_functions import encontrar_local\n",
    "from define_functions import encontrar_ano\n",
    "from define_functions import encontrar_keywords\n",
    "from define_functions import encontrar_palavras_chave\n",
    "from define_functions import encontrar_orientador"
   ]
  },
  {
   "cell_type": "code",
   "execution_count": 2,
   "metadata": {},
   "outputs": [
    {
     "data": {
      "text/html": [
       "<div>\n",
       "<style scoped>\n",
       "    .dataframe tbody tr th:only-of-type {\n",
       "        vertical-align: middle;\n",
       "    }\n",
       "\n",
       "    .dataframe tbody tr th {\n",
       "        vertical-align: top;\n",
       "    }\n",
       "\n",
       "    .dataframe thead th {\n",
       "        text-align: right;\n",
       "    }\n",
       "</style>\n",
       "<table border=\"1\" class=\"dataframe\">\n",
       "  <thead>\n",
       "    <tr style=\"text-align: right;\">\n",
       "      <th></th>\n",
       "      <th>NOME_ARQUIVO</th>\n",
       "      <th>CONTEUDO</th>\n",
       "    </tr>\n",
       "  </thead>\n",
       "  <tbody>\n",
       "    <tr>\n",
       "      <th>0</th>\n",
       "      <td>metadata\\dissertacao_0001.txt</td>\n",
       "      <td>[VICENTE LOURENÇO GONÇALVES, CARDINALIDADE DE ...</td>\n",
       "    </tr>\n",
       "    <tr>\n",
       "      <th>1</th>\n",
       "      <td>metadata\\dissertacao_0002.txt</td>\n",
       "      <td>[UNIVERSIDADE ESTADUAL DO SUDOESTE DA BAHIA – ...</td>\n",
       "    </tr>\n",
       "    <tr>\n",
       "      <th>2</th>\n",
       "      <td>metadata\\dissertacao_0003.txt</td>\n",
       "      <td>[BEATRIZ ROSSIGNOL VIEIRA CARDOSO, O TRABALHO ...</td>\n",
       "    </tr>\n",
       "    <tr>\n",
       "      <th>3</th>\n",
       "      <td>metadata\\dissertacao_0004.txt</td>\n",
       "      <td>[UNIVERSIDADE FEDERAL DO MARANHÃO, CENTRO DE C...</td>\n",
       "    </tr>\n",
       "    <tr>\n",
       "      <th>4</th>\n",
       "      <td>metadata\\dissertacao_0005.txt</td>\n",
       "      <td>[UNIVERSIDADE FEDERAL DA PARAÍBA, CENTRO DE CI...</td>\n",
       "    </tr>\n",
       "    <tr>\n",
       "      <th>...</th>\n",
       "      <td>...</td>\n",
       "      <td>...</td>\n",
       "    </tr>\n",
       "    <tr>\n",
       "      <th>6107</th>\n",
       "      <td>metadata\\dissertacao_6159.txt</td>\n",
       "      <td>[Universidade Federal da Bahia - UFBA, Institu...</td>\n",
       "    </tr>\n",
       "    <tr>\n",
       "      <th>6108</th>\n",
       "      <td>metadata\\dissertacao_6160.txt</td>\n",
       "      <td>[UNIVERSIDADE FEDERAL DO ESPÍRITO SANTO, DEPAR...</td>\n",
       "    </tr>\n",
       "    <tr>\n",
       "      <th>6109</th>\n",
       "      <td>metadata\\dissertacao_6161.txt</td>\n",
       "      <td>[Universidade Federal da Bahia - UFBA, Institu...</td>\n",
       "    </tr>\n",
       "    <tr>\n",
       "      <th>6110</th>\n",
       "      <td>metadata\\dissertacao_6162.txt</td>\n",
       "      <td>[UFES - Universidade Federal do Espírito Santo...</td>\n",
       "    </tr>\n",
       "    <tr>\n",
       "      <th>6111</th>\n",
       "      <td>metadata\\dissertacao_6163.txt</td>\n",
       "      <td>[UNIVERSIDADE FEDERAL DO ESPÍRITO SANTO, DEPAR...</td>\n",
       "    </tr>\n",
       "  </tbody>\n",
       "</table>\n",
       "<p>6112 rows × 2 columns</p>\n",
       "</div>"
      ],
      "text/plain": [
       "                       NOME_ARQUIVO  \\\n",
       "0     metadata\\dissertacao_0001.txt   \n",
       "1     metadata\\dissertacao_0002.txt   \n",
       "2     metadata\\dissertacao_0003.txt   \n",
       "3     metadata\\dissertacao_0004.txt   \n",
       "4     metadata\\dissertacao_0005.txt   \n",
       "...                             ...   \n",
       "6107  metadata\\dissertacao_6159.txt   \n",
       "6108  metadata\\dissertacao_6160.txt   \n",
       "6109  metadata\\dissertacao_6161.txt   \n",
       "6110  metadata\\dissertacao_6162.txt   \n",
       "6111  metadata\\dissertacao_6163.txt   \n",
       "\n",
       "                                               CONTEUDO  \n",
       "0     [VICENTE LOURENÇO GONÇALVES, CARDINALIDADE DE ...  \n",
       "1     [UNIVERSIDADE ESTADUAL DO SUDOESTE DA BAHIA – ...  \n",
       "2     [BEATRIZ ROSSIGNOL VIEIRA CARDOSO, O TRABALHO ...  \n",
       "3     [UNIVERSIDADE FEDERAL DO MARANHÃO, CENTRO DE C...  \n",
       "4     [UNIVERSIDADE FEDERAL DA PARAÍBA, CENTRO DE CI...  \n",
       "...                                                 ...  \n",
       "6107  [Universidade Federal da Bahia - UFBA, Institu...  \n",
       "6108  [UNIVERSIDADE FEDERAL DO ESPÍRITO SANTO, DEPAR...  \n",
       "6109  [Universidade Federal da Bahia - UFBA, Institu...  \n",
       "6110  [UFES - Universidade Federal do Espírito Santo...  \n",
       "6111  [UNIVERSIDADE FEDERAL DO ESPÍRITO SANTO, DEPAR...  \n",
       "\n",
       "[6112 rows x 2 columns]"
      ]
     },
     "execution_count": 2,
     "metadata": {},
     "output_type": "execute_result"
    }
   ],
   "source": [
    "pd.set_option('display.max_columns', None)\n",
    "df"
   ]
  },
  {
   "cell_type": "code",
   "execution_count": 4,
   "metadata": {},
   "outputs": [],
   "source": [
    "df['CONTEUDO'] = df['CONTEUDO'].map(lambda lines: [fix_accents_bugs_in_pdf_conversion(line) for line in lines])"
   ]
  },
  {
   "cell_type": "code",
   "execution_count": 8,
   "metadata": {},
   "outputs": [],
   "source": [
    "df['CONTEUDO']= df['CONTEUDO'].map(lambda lines: [format_text(line) for line in lines])"
   ]
  },
  {
   "cell_type": "code",
   "execution_count": 11,
   "metadata": {},
   "outputs": [
    {
     "data": {
      "text/plain": [
       "0                            VICENTE LOURENCO GONCALVES\n",
       "1      UNIVERSIDADE ESTADUAL DO SUDOESTE DA BAHIA  UESB\n",
       "2                      BEATRIZ ROSSIGNOL VIEIRA CARDOSO\n",
       "3                      UNIVERSIDADE FEDERAL DO MARANHAO\n",
       "4                       UNIVERSIDADE FEDERAL DA PARAIBA\n",
       "                            ...                        \n",
       "95                     UNIVERSIDADE FEDERAL DO MARANHAO\n",
       "96    2020: TRABALHO DE CONCLUSAO DE CURSO DO MESTRA...\n",
       "97         UNIVERSIDADE FEDERAL DO OESTE DO PARA  UFOPA\n",
       "98                UNIVERSIDADE FEDERAL DO OESTE DO PARA\n",
       "99                       UNIVERSIDADE ESTADUAL DO CEARA\n",
       "Name: UNIVERSIDADE, Length: 100, dtype: object"
      ]
     },
     "execution_count": 11,
     "metadata": {},
     "output_type": "execute_result"
    }
   ],
   "source": [
    "df['UNIVERSIDADE'] = df['CONTEUDO'].map(lambda lines: lines[0] if lines else \"\")\n",
    "df['UNIVERSIDADE']"
   ]
  },
  {
   "cell_type": "code",
   "execution_count": 12,
   "metadata": {},
   "outputs": [
    {
     "data": {
      "text/plain": [
       "0     ORIENTADOR:  PROF.  DR.  ROGERIO  FERREIRA  DA\n",
       "1                                       ORIENTADORA:\n",
       "2        ORIENTADOR: PROF. ME. LUCAS CASANOVA SILVA.\n",
       "3       ORIENTADOR: PROF. DR. GIOVANE FERREIRA SILVA\n",
       "4                                                   \n",
       "                           ...                      \n",
       "95          ORIENTADOR: PROF. GIOVANE FERREIRA SILVA\n",
       "96                                                  \n",
       "97     ORIENTADOR: PROF. DR. LENILSON MOREIRA ARAUJO\n",
       "98            ORIENTADOR: PROF. DR. CLAUDIR OLIVEIRA\n",
       "99                             ORIENTADOR: PROF. DR.\n",
       "Name: ORIENTADOR, Length: 100, dtype: object"
      ]
     },
     "execution_count": 12,
     "metadata": {},
     "output_type": "execute_result"
    }
   ],
   "source": [
    "df['ORIENTADOR'] = df['CONTEUDO'].map(lambda lines: encontrar_orientador(lines))\n",
    "df['ORIENTADOR']"
   ]
  },
  {
   "cell_type": "code",
   "execution_count": 13,
   "metadata": {},
   "outputs": [
    {
     "data": {
      "text/plain": [
       "0                                                  2023\n",
       "1                                                  2023\n",
       "2                                                  2022\n",
       "3                                                  2021\n",
       "4     1879  O  MATEMATICO  R.  HOPPE  DESCREVEU  FOR...\n",
       "                            ...                        \n",
       "95                                                 2020\n",
       "96    2020: TRABALHO DE CONCLUSAO DE CURSO DO MESTRA...\n",
       "97                                                 2020\n",
       "98                                                 2020\n",
       "99                                                 2020\n",
       "Name: ANO, Length: 100, dtype: object"
      ]
     },
     "execution_count": 13,
     "metadata": {},
     "output_type": "execute_result"
    }
   ],
   "source": [
    "df['ANO'] = df['CONTEUDO'].map(lambda lines: encontrar_ano(lines))\n",
    "df['ANO']"
   ]
  },
  {
   "cell_type": "code",
   "execution_count": 14,
   "metadata": {},
   "outputs": [
    {
     "data": {
      "text/plain": [
       "0     O PRESENTE TRABALHO TRATA DA CARDINALIDADE DE ...\n",
       "1     SABEMOS QUE O TEOREMA DE PITAGORAS POSSUI APLI...\n",
       "2     NUM  MUNDO  DE  MUDANCAS  CONSTANTES  OS  PROF...\n",
       "3     APRESENTA-SE NESTE TRABALHO O USO DO SOFTWARE ...\n",
       "4     ESTE TRABALHO FRUTO DE PESQUISAS BIBLIOGRAFICA...\n",
       "                            ...                        \n",
       "95    ESTE TRABALHO TRATA DO USO DE RECORRNCIA NA ED...\n",
       "96    ALGUNS RABISCOS ETIENNE GYS MAL PODE ACREDITAR...\n",
       "97    O  OBJETIVO  DESTA  PESQUISA  FOI  PROPOR  ATI...\n",
       "98    AS AVALIACOES EM LARGA ESCALA SAO REALIDADES P...\n",
       "99    O USO DAS LINGUAGENS DE PROGRAMACAO TEM AUMENT...\n",
       "Name: RESUMO, Length: 100, dtype: object"
      ]
     },
     "execution_count": 14,
     "metadata": {},
     "output_type": "execute_result"
    }
   ],
   "source": [
    "df['RESUMO'] = df['CONTEUDO'].map(lambda lines: encontrar_resumo(lines))\n",
    "df['RESUMO']"
   ]
  },
  {
   "cell_type": "code",
   "execution_count": 19,
   "metadata": {},
   "outputs": [
    {
     "data": {
      "text/plain": [
       "0     THE PRESENT  WORK  DEALS  WITH  THE  CARDINALI...\n",
       "1     WE KNOW  THAT  THE  PYTHAGOREAN  THEOREM  HAS ...\n",
       "2     IN  A  WORLD  OF  CONSTANT  CHANGE  TEACHERS  ...\n",
       "3     IN THIS WORK WE PRESENTE THE USE OF THE  DYNAM...\n",
       "4     THIS WORK THE RESULT OF BIBLIOGRAPHIC RESEARCH...\n",
       "                            ...                        \n",
       "95    THIS WORK DEALS WITH THE USE OF RECURRENCE IN ...\n",
       "96                                                     \n",
       "97    THE OBJECTIVE OF THIS RESEARCH WAS TO PROPOSE ...\n",
       "98    LARGE-SCALE  ASSESSMENTS  HAVE  BEEN  PRESENT ...\n",
       "99    THE USE OF PROGRAMMING LANGUAGES HAS INCREASED...\n",
       "Name: ABSTRACT, Length: 100, dtype: object"
      ]
     },
     "execution_count": 19,
     "metadata": {},
     "output_type": "execute_result"
    }
   ],
   "source": [
    "df['ABSTRACT'] = df['CONTEUDO'].map(lambda lines: encontrar_abstract(lines))\n",
    "df['ABSTRACT'] "
   ]
  },
  {
   "cell_type": "code",
   "execution_count": 20,
   "metadata": {},
   "outputs": [
    {
     "data": {
      "text/plain": [
       "0     KEYWORDS:  INFINITE  SETS;  CARDINALITY;  BASI...\n",
       "1     KEYWORDS: PYTHAGOREAN THEOREM GEOGEBRA TEACHIN...\n",
       "2               KEYWORDS: GROUPWORK; MATHEMATICS; BNCC.\n",
       "3          KEYWORDS: HIGH SCHOOL TRIGONOMETRY GEOGEBRA.\n",
       "4     KEYWORDS: BRAHMAGUPTAS TRIANGLES. ARITHMETIC T...\n",
       "                            ...                        \n",
       "95    KEYWORDS: NUMERICAL SEQUENCE. RECURRENCE. RECU...\n",
       "96                                                     \n",
       "97    KEYWORDS: GEOMETRIC CONSTRUCTIONS. GEOMETRY TE...\n",
       "98    KEYWORDS: LARGE-SCALE ASSESSMENT SCHOOL PERFOR...\n",
       "99    KEYWORDS: PYTHON. FORTRAN. PROGRAMMING LANGUAG...\n",
       "Name: KEYWORDS, Length: 100, dtype: object"
      ]
     },
     "execution_count": 20,
     "metadata": {},
     "output_type": "execute_result"
    }
   ],
   "source": [
    "df['KEYWORDS'] = df['CONTEUDO'].map(lambda lines: encontrar_keywords(lines))\n",
    "df['KEYWORDS'] "
   ]
  },
  {
   "cell_type": "code",
   "execution_count": null,
   "metadata": {},
   "outputs": [],
   "source": [
    "df['LOCAL'] = df['CONTEUDO'].map(lambda lines: encontrar_local(lines))\n",
    "#Corrigir: \"ValueError: 'FONSECA' is not in list\""
   ]
  },
  {
   "cell_type": "code",
   "execution_count": null,
   "metadata": {},
   "outputs": [],
   "source": [
    "df['PALAVRAS_CHAVE'] = df['CONTEUDO'].map(lambda lines: encontrar_palavras_chave(lines))\n",
    "#Corrigir erro: \"IndexError: list index out of range\""
   ]
  },
  {
   "cell_type": "code",
   "execution_count": null,
   "metadata": {},
   "outputs": [],
   "source": [
    "df.to_excel(\"C:\\\\data_extraction\\\\dados_amostra_2.xlsx\", index=False)\n",
    "\n",
    "#Salvo arquivo com dados extraídos da segunda amostra, contendo 100 arquivos"
   ]
  }
 ],
 "metadata": {
  "kernelspec": {
   "display_name": "env",
   "language": "python",
   "name": "python3"
  },
  "language_info": {
   "codemirror_mode": {
    "name": "ipython",
    "version": 3
   },
   "file_extension": ".py",
   "mimetype": "text/x-python",
   "name": "python",
   "nbconvert_exporter": "python",
   "pygments_lexer": "ipython3",
   "version": "3.11.2"
  },
  "orig_nbformat": 4
 },
 "nbformat": 4,
 "nbformat_minor": 2
}
